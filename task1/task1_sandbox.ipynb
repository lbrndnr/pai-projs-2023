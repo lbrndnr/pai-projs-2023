{
 "cells": [
  {
   "cell_type": "code",
   "execution_count": 2,
   "metadata": {},
   "outputs": [],
   "source": [
    "import os\n",
    "import typing\n",
    "from sklearn.gaussian_process.kernels import *\n",
    "import numpy as np\n",
    "from sklearn.gaussian_process import GaussianProcessRegressor\n",
    "import matplotlib.pyplot as plt\n",
    "from matplotlib import cm"
   ]
  },
  {
   "cell_type": "code",
   "execution_count": 3,
   "metadata": {},
   "outputs": [],
   "source": [
    "train_x = np.loadtxt('train_x.csv', delimiter=',', skiprows=1)\n",
    "train_y = np.loadtxt('train_y.csv', delimiter=',', skiprows=1)\n",
    "test_x = np.loadtxt('test_x.csv', delimiter=',', skiprows=1)"
   ]
  },
  {
   "cell_type": "code",
   "execution_count": 4,
   "metadata": {},
   "outputs": [
    {
     "data": {
      "text/plain": [
       "array([[0.67   , 0.95375, 0.     ],\n",
       "       [0.2425 , 0.88125, 0.     ],\n",
       "       [0.21   , 0.91375, 1.     ],\n",
       "       ...,\n",
       "       [0.59875, 0.49125, 0.     ],\n",
       "       [0.68125, 0.365  , 1.     ],\n",
       "       [0.0025 , 0.22   , 0.     ]])"
      ]
     },
     "execution_count": 4,
     "metadata": {},
     "output_type": "execute_result"
    }
   ],
   "source": [
    "test_x"
   ]
  },
  {
   "cell_type": "code",
   "execution_count": 5,
   "metadata": {},
   "outputs": [
    {
     "name": "stdout",
     "output_type": "stream",
     "text": [
      "Shape train_x:\t(15189, 3)\n",
      "Shape train_y:\t(15189,)\n"
     ]
    },
    {
     "data": {
      "text/plain": [
       "array([[0.8575 , 0.68625, 1.     ],\n",
       "       [0.41125, 0.675  , 1.     ],\n",
       "       [0.8625 , 0.90625, 1.     ],\n",
       "       ...,\n",
       "       [0.135  , 0.64   , 1.     ],\n",
       "       [0.07125, 0.78875, 0.     ],\n",
       "       [0.31625, 0.2125 , 1.     ]])"
      ]
     },
     "execution_count": 5,
     "metadata": {},
     "output_type": "execute_result"
    }
   ],
   "source": [
    "print(f'Shape train_x:\\t{train_x.shape}\\nShape train_y:\\t{train_y.shape}')\n",
    "train_x\n"
   ]
  },
  {
   "cell_type": "code",
   "execution_count": 6,
   "metadata": {},
   "outputs": [
    {
     "data": {
      "text/plain": [
       "array([36.20316838, 55.94634794, 12.04206554, ..., 36.64130863,\n",
       "       18.66263411, 38.37685245])"
      ]
     },
     "execution_count": 6,
     "metadata": {},
     "output_type": "execute_result"
    }
   ],
   "source": [
    "train_y"
   ]
  },
  {
   "cell_type": "code",
   "execution_count": 7,
   "metadata": {},
   "outputs": [],
   "source": [
    "def random_undersample(train_x, train_y, n_samples):\n",
    "    ## Random Undersampling \n",
    "    train_comb = np.hstack((train_x, train_y[:, np.newaxis]))\n",
    "\n",
    "    # Shuffle the rows\n",
    "    np.random.shuffle(train_comb)\n",
    "\n",
    "    # Take the first n_samples rows\n",
    "    train_undersampled = train_comb[:n_samples, :]\n",
    "    \n",
    "    # Split them back into data and target\n",
    "    train_x_usam = train_undersampled[:, :-1]\n",
    "    train_y_usam = train_undersampled[:, -1]\n",
    "\n",
    "    return train_x_usam, train_y_usam"
   ]
  },
  {
   "cell_type": "code",
   "execution_count": 8,
   "metadata": {},
   "outputs": [
    {
     "data": {
      "text/plain": [
       "array([[0.9975 , 0.62125, 0.     ],\n",
       "       [0.46   , 0.74875, 1.     ],\n",
       "       [0.245  , 0.69   , 1.     ],\n",
       "       ...,\n",
       "       [0.5575 , 0.54875, 1.     ],\n",
       "       [0.23125, 0.715  , 1.     ],\n",
       "       [0.06375, 0.2525 , 0.     ]])"
      ]
     },
     "execution_count": 8,
     "metadata": {},
     "output_type": "execute_result"
    }
   ],
   "source": [
    "train_x_usam, train_y_usam = random_undersample(train_x=train_x, train_y=train_y, n_samples=10_000)\n",
    "train_x_usam"
   ]
  },
  {
   "cell_type": "code",
   "execution_count": 28,
   "metadata": {},
   "outputs": [
    {
     "data": {
      "image/png": "[encoded data removed]",
      "text/plain": [
       "<Figure size 640x480 with 1 Axes>"
      ]
     },
     "metadata": {},
     "output_type": "display_data"
    }
   ],
   "source": [
    "import matplotlib.pyplot as plt\n",
    "import pandas as pd\n",
    "\n",
    "plt.hist(train_y, density=True, bins=100);"
   ]
  },
  {
   "cell_type": "code",
   "execution_count": 75,
   "metadata": {},
   "outputs": [],
   "source": [
    "from sklearn.cluster import KMeans\n",
    "\n",
    "n_clusters = 5000\n",
    "kmeans =  KMeans(n_clusters=n_clusters, random_state=0, n_init=\"auto\").fit(train_x[:,0:2])"
   ]
  },
  {
   "cell_type": "code",
   "execution_count": 78,
   "metadata": {},
   "outputs": [
    {
     "name": "stdout",
     "output_type": "stream",
     "text": [
      "4999\n"
     ]
    }
   ],
   "source": [
    "train_y_usamp = np.zeros(n_clusters)\n",
    "for k in range(n_clusters):\n",
    "    train_y_usamp[k] = train_y[kmeans.labels_ == k].mean()        \n",
    "train_x_usamp = kmeans.cluster_centers_.shape\n"
   ]
  },
  {
   "cell_type": "code",
   "execution_count": 74,
   "metadata": {},
   "outputs": [
    {
     "data": {
      "text/plain": [
       "(5, 2)"
      ]
     },
     "execution_count": 74,
     "metadata": {},
     "output_type": "execute_result"
    }
   ],
   "source": []
  },
  {
   "cell_type": "code",
   "execution_count": null,
   "metadata": {},
   "outputs": [],
   "source": []
  },
  {
   "cell_type": "code",
   "execution_count": null,
   "metadata": {},
   "outputs": [],
   "source": []
  },
  {
   "cell_type": "code",
   "execution_count": null,
   "metadata": {},
   "outputs": [],
   "source": []
  },
  {
   "cell_type": "code",
   "execution_count": null,
   "metadata": {},
   "outputs": [],
   "source": []
  }
 ],
 "metadata": {
  "kernelspec": {
   "display_name": "pai_env",
   "language": "python",
   "name": "python3"
  },
  "language_info": {
   "codemirror_mode": {
    "name": "ipython",
    "version": 3
   },
   "file_extension": ".py",
   "mimetype": "text/x-python",
   "name": "python",
   "nbconvert_exporter": "python",
   "pygments_lexer": "ipython3",
   "version": "3.8.18"
  }
 },
 "nbformat": 4,
 "nbformat_minor": 2
}
