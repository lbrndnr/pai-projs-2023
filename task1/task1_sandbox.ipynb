{
 "cells": [
  {
   "cell_type": "code",
   "execution_count": 1,
   "metadata": {},
   "outputs": [],
   "source": [
    "import os\n",
    "import typing\n",
    "from sklearn.gaussian_process.kernels import *\n",
    "import numpy as np\n",
    "from sklearn.gaussian_process import GaussianProcessRegressor\n",
    "import matplotlib.pyplot as plt\n",
    "from matplotlib import cm"
   ]
  },
  {
   "cell_type": "code",
   "execution_count": 2,
   "metadata": {},
   "outputs": [],
   "source": [
    "train_x = np.loadtxt('train_x.csv', delimiter=',', skiprows=1)\n",
    "train_y = np.loadtxt('train_y.csv', delimiter=',', skiprows=1)\n",
    "test_x = np.loadtxt('test_x.csv', delimiter=',', skiprows=1)"
   ]
  },
  {
   "cell_type": "code",
   "execution_count": 6,
   "metadata": {},
   "outputs": [
    {
     "data": {
      "text/plain": [
       "array([[0.67   , 0.95375, 0.     ],\n",
       "       [0.2425 , 0.88125, 0.     ],\n",
       "       [0.21   , 0.91375, 1.     ],\n",
       "       ...,\n",
       "       [0.59875, 0.49125, 0.     ],\n",
       "       [0.68125, 0.365  , 1.     ],\n",
       "       [0.0025 , 0.22   , 0.     ]])"
      ]
     },
     "execution_count": 6,
     "metadata": {},
     "output_type": "execute_result"
    }
   ],
   "source": [
    "test_x"
   ]
  },
  {
   "cell_type": "code",
   "execution_count": 8,
   "metadata": {},
   "outputs": [
    {
     "name": "stdout",
     "output_type": "stream",
     "text": [
      "Shape train_x:\t(15189, 3)\n",
      "Shape train_y:\t(15189,)\n"
     ]
    },
    {
     "data": {
      "text/plain": [
       "array([[0.8575 , 0.68625, 1.     ],\n",
       "       [0.41125, 0.675  , 1.     ],\n",
       "       [0.8625 , 0.90625, 1.     ],\n",
       "       ...,\n",
       "       [0.135  , 0.64   , 1.     ],\n",
       "       [0.07125, 0.78875, 0.     ],\n",
       "       [0.31625, 0.2125 , 1.     ]])"
      ]
     },
     "execution_count": 8,
     "metadata": {},
     "output_type": "execute_result"
    }
   ],
   "source": [
    "print(f'Shape train_x:\\t{train_x.shape}\\nShape train_y:\\t{train_y.shape}')\n",
    "train_x\n"
   ]
  },
  {
   "cell_type": "code",
   "execution_count": 9,
   "metadata": {},
   "outputs": [
    {
     "data": {
      "text/plain": [
       "array([36.20316838, 55.94634794, 12.04206554, ..., 36.64130863,\n",
       "       18.66263411, 38.37685245])"
      ]
     },
     "execution_count": 9,
     "metadata": {},
     "output_type": "execute_result"
    }
   ],
   "source": [
    "train_y"
   ]
  },
  {
   "cell_type": "code",
   "execution_count": 13,
   "metadata": {},
   "outputs": [],
   "source": [
    "def random_undersample(train_x, train_y, n_samples):\n",
    "    ## Random Undersampling \n",
    "    train_comb = np.hstack((train_x, train_y[:, np.newaxis]))\n",
    "\n",
    "    # Shuffle the rows\n",
    "    np.random.shuffle(train_comb)\n",
    "\n",
    "    # Take the first n_samples rows\n",
    "    train_undersampled = train_comb[:n_samples, :]\n",
    "    \n",
    "    # Split them back into data and target\n",
    "    train_x_usam = train_undersampled[:, :-1]\n",
    "    train_y_usam = train_undersampled[:, -1]\n",
    "\n",
    "    return train_x_usam, train_y_usam"
   ]
  },
  {
   "cell_type": "code",
   "execution_count": 16,
   "metadata": {},
   "outputs": [
    {
     "data": {
      "text/plain": [
       "array([[0.23125, 0.92625, 1.     ],\n",
       "       [0.42125, 0.41625, 1.     ],\n",
       "       [0.2675 , 0.81   , 1.     ],\n",
       "       ...,\n",
       "       [0.24875, 0.855  , 1.     ],\n",
       "       [0.46625, 0.5975 , 1.     ],\n",
       "       [0.1625 , 0.545  , 1.     ]])"
      ]
     },
     "execution_count": 16,
     "metadata": {},
     "output_type": "execute_result"
    }
   ],
   "source": [
    "train_x_usam, train_y_usam = random_undersample(train_x=train_x, train_y=train_y, n_samples=10_000)\n",
    "train_x_usam"
   ]
  },
  {
   "cell_type": "code",
   "execution_count": null,
   "metadata": {},
   "outputs": [],
   "source": []
  }
 ],
 "metadata": {
  "kernelspec": {
   "display_name": "pai_env",
   "language": "python",
   "name": "python3"
  },
  "language_info": {
   "codemirror_mode": {
    "name": "ipython",
    "version": 3
   },
   "file_extension": ".py",
   "mimetype": "text/x-python",
   "name": "python",
   "nbconvert_exporter": "python",
   "pygments_lexer": "ipython3",
   "version": "3.8.18"
  }
 },
 "nbformat": 4,
 "nbformat_minor": 2
}
